{
  "nbformat": 4,
  "nbformat_minor": 0,
  "metadata": {
    "colab": {
      "provenance": []
    },
    "kernelspec": {
      "name": "python3",
      "display_name": "Python 3"
    },
    "language_info": {
      "name": "python"
    }
  },
  "cells": [
    {
      "cell_type": "markdown",
      "source": [
        "#FUNCTIONS ASSIGNMENT\n",
        "THEORATICAL QUESTIONS ANSWER ;\n",
        "\n",
        "Q1. What is the difference between a function and a method in Python?\n",
        "  \n",
        "ANS 1 : Function: A function is a block of code that performs a specific task and is defined using the def keyword. It can be independent of any object.\n",
        "\n",
        "   Method: A method is a function that is associated with an object and is called on that object (i.e., it belongs to a class).\n",
        "\n",
        "*Example:*\n",
        "\n",
        "python\n",
        "# Function\n",
        "    def greet(name):\n",
        "\n",
        "       return \"Hello, \" + name\n",
        "\n",
        "# Method\n",
        "    text = \"hello\"\n",
        "\n",
        "    capitalized = text.upper()  # upper() is a method of str object\n",
        "\n",
        "\n",
        "---\n",
        "\n",
        "Q2. Explain the concept of function arguments and parameters in Python.\n",
        "\n",
        "ANS 2 : Parameters:Are the variables listed inside the parentheses in the function definition.\n",
        "\n",
        "Arguments: Are the actual values passed to the function when calling it.\n",
        "\n",
        "*Example:*\n",
        "\n",
        "python\n",
        "\n",
        "    def add(a, b):  # a and b are parameters\n",
        "\n",
        "    return a + b\n",
        "\n",
        "result = add(5, 3)  # 5 and 3 are arguments\n",
        "\n",
        "\n",
        "---\n",
        "\n",
        "Q3. What are the different ways to define and call a function in Python?\n",
        "\n",
        "ANS 3 : The different ways to define and call a function in python are :-\n",
        "* Using def keyword\n",
        "* Using lambda functions\n",
        "\n",
        "*Example:*\n",
        "\n",
        "python\n",
        "# Normal function\n",
        "    def square(x):\n",
        "\n",
        "        return x * x\n",
        "\n",
        "print(square(4))\n",
        "\n",
        "# Lambda function\n",
        "    square_lambda = lambda x: x * x\n",
        "\n",
        "    print(square_lambda(4))\n",
        "\n",
        "\n",
        "---\n",
        "\n",
        "Q4. What is the purpose of the return statement in a Python function?\n",
        "\n",
        "ANS 4 : The return statement in a Python function serves tro primary purposes:-\n",
        "* Exiting the function\n",
        "* Providing a value\n",
        "\n",
        "*Example:*\n",
        "\n",
        "python\n",
        "\n",
        "    def multiply(a, b):\n",
        "       return a * b\n",
        "\n",
        "    result = multiply(2, 3)  # result = 6\n",
        "\n",
        "\n",
        "---\n",
        "\n",
        "Q5. What are iterators in Python and how do they differ from iterables?\n",
        "\n",
        "ANS 5 : *Iterable*: An object capable of returning its members one at a time (e.g., list, tuple).\n",
        "\n",
        "  *Iterator*: An object representing a stream of data; it implements __iter__() and __next__().\n",
        "\n",
        "*Example:*\n",
        "\n",
        "python\n",
        "\n",
        "    lst = [1, 2, 3]  # Iterable\n",
        "\n",
        "    it = iter(lst)   # Iterator\n",
        "\n",
        "    print(next(it))  # Output: 1\n",
        "\n",
        "\n",
        "---\n",
        "\n",
        "Q6. Explain the concept of generators in Python and how they are defined.\n",
        "\n",
        "ANS 6 :  A generator is a special type of iterator that yields values one at a time using the yield keyword.\n",
        "* Generators are defined like normal functions but use yield instead of return.\n",
        "\n",
        "*Example:*\n",
        "\n",
        "python\n",
        "\n",
        "    def countdown(n):\n",
        "       while n > 0:\n",
        "         yield n\n",
        "         n -= 1\n",
        "\n",
        "    for num in countdown(3):\n",
        "       print(num)\n",
        "\n",
        "---\n",
        "\n",
        "Q7. What are the advantages of using generators over regular functions?\n",
        "\n",
        "ANS 7 : *Memory Efficient*: Generators yield one item at a time, so they don’t store the whole sequence in memory.\n",
        "\n",
        " *Lazy Evaluation*: Values are generated only when needed.\n",
        "\n",
        " *Infinite Sequence Handling*: Can generate an infinite stream without using huge memory.\n",
        "\n",
        "*Example:*\n",
        "\n",
        "python\n",
        "\n",
        "    def gen():\n",
        "\n",
        "      for i in range(1000000):\n",
        "\n",
        "        yield i\n",
        "\n",
        "\n",
        "---\n",
        "\n",
        "Q8. What is a lambda function in Python and when is it typically used?\n",
        "\n",
        "ANS 8 :  A lambda function is a small anonymous function defined using the lambda keyword.\n",
        "* Typically used for short, throwaway functions passed to functions like map(), filter(), etc.\n",
        "\n",
        "*Example:*\n",
        "\n",
        "    python\n",
        "    square = lambda x: x * x\n",
        "    print(square(5))  # Output: 25\n",
        "\n",
        "\n",
        "---\n",
        "\n",
        "Q9. Explain the purpose and usage of the map() function in Python.\n",
        "\n",
        "ANS 9 :Map in Python is a function that works as an iterator to return a result after applying a function to every item of an iterable (tuple, lists, etc.). It is used when you want to apply a single transformation function to all the iterable elements.\n",
        "\n",
        "*Example:*\n",
        "\n",
        "    python\n",
        "    nums = [1, 2, 3]\n",
        "    squared = list(map(lambda x: x**2, nums))\n",
        "    print(squared)  # Output: [1, 4, 9]\n",
        "\n",
        "\n",
        "---\n",
        "\n",
        "Q10. What is the difference between map(), reduce(), and filter() functions in Python?\n",
        "ANS 10 :-\n",
        "\n",
        "| Function   | Purpose                                | Example Use                              |\n",
        "| ---------- | -------------------------------------- | ---------------------------------------- |\n",
        "| map()    | Transforms each item                   | map(lambda x: x*2, [1,2,3]) → \\[2,4,6] |\n",
        "| filter() | Filters items based on a condition     | filter(lambda x: x>2, [1,2,3]) → \\[3]  |\n",
        "| reduce() | Applies a rolling computation to items | reduce(lambda x,y: x+y, [1,2,3]) → 6   |\n",
        "\n",
        "\n",
        "\n",
        "---\n",
        "\n",
        "Q11. Using pen & paper write the internal mechanism for sum operation using reduce function on this given list:[47,11,42,13];\n",
        "\n",
        "ANS 11 :"
      ],
      "metadata": {
        "id": "1Pk0joNn6SGy"
      }
    },
    {
      "cell_type": "code",
      "source": [
        "from google.colab import files\n",
        "uploaded = files.upload()"
      ],
      "metadata": {
        "colab": {
          "base_uri": "https://localhost:8080/",
          "height": 71
        },
        "id": "jhAHWZo2J1AA",
        "outputId": "8b95dd0b-eb73-419e-d7cd-1d6fb8ece28e"
      },
      "execution_count": null,
      "outputs": [
        {
          "output_type": "display_data",
          "data": {
            "text/plain": [
              "<IPython.core.display.HTML object>"
            ],
            "text/html": [
              "\n",
              "     <input type=\"file\" id=\"files-7dd27da7-d64a-48ca-b61c-ff40820abf83\" name=\"files[]\" multiple disabled\n",
              "        style=\"border:none\" />\n",
              "     <output id=\"result-7dd27da7-d64a-48ca-b61c-ff40820abf83\">\n",
              "      Upload widget is only available when the cell has been executed in the\n",
              "      current browser session. Please rerun this cell to enable.\n",
              "      </output>\n",
              "      <script>// Copyright 2017 Google LLC\n",
              "//\n",
              "// Licensed under the Apache License, Version 2.0 (the \"License\");\n",
              "// you may not use this file except in compliance with the License.\n",
              "// You may obtain a copy of the License at\n",
              "//\n",
              "//      http://www.apache.org/licenses/LICENSE-2.0\n",
              "//\n",
              "// Unless required by applicable law or agreed to in writing, software\n",
              "// distributed under the License is distributed on an \"AS IS\" BASIS,\n",
              "// WITHOUT WARRANTIES OR CONDITIONS OF ANY KIND, either express or implied.\n",
              "// See the License for the specific language governing permissions and\n",
              "// limitations under the License.\n",
              "\n",
              "/**\n",
              " * @fileoverview Helpers for google.colab Python module.\n",
              " */\n",
              "(function(scope) {\n",
              "function span(text, styleAttributes = {}) {\n",
              "  const element = document.createElement('span');\n",
              "  element.textContent = text;\n",
              "  for (const key of Object.keys(styleAttributes)) {\n",
              "    element.style[key] = styleAttributes[key];\n",
              "  }\n",
              "  return element;\n",
              "}\n",
              "\n",
              "// Max number of bytes which will be uploaded at a time.\n",
              "const MAX_PAYLOAD_SIZE = 100 * 1024;\n",
              "\n",
              "function _uploadFiles(inputId, outputId) {\n",
              "  const steps = uploadFilesStep(inputId, outputId);\n",
              "  const outputElement = document.getElementById(outputId);\n",
              "  // Cache steps on the outputElement to make it available for the next call\n",
              "  // to uploadFilesContinue from Python.\n",
              "  outputElement.steps = steps;\n",
              "\n",
              "  return _uploadFilesContinue(outputId);\n",
              "}\n",
              "\n",
              "// This is roughly an async generator (not supported in the browser yet),\n",
              "// where there are multiple asynchronous steps and the Python side is going\n",
              "// to poll for completion of each step.\n",
              "// This uses a Promise to block the python side on completion of each step,\n",
              "// then passes the result of the previous step as the input to the next step.\n",
              "function _uploadFilesContinue(outputId) {\n",
              "  const outputElement = document.getElementById(outputId);\n",
              "  const steps = outputElement.steps;\n",
              "\n",
              "  const next = steps.next(outputElement.lastPromiseValue);\n",
              "  return Promise.resolve(next.value.promise).then((value) => {\n",
              "    // Cache the last promise value to make it available to the next\n",
              "    // step of the generator.\n",
              "    outputElement.lastPromiseValue = value;\n",
              "    return next.value.response;\n",
              "  });\n",
              "}\n",
              "\n",
              "/**\n",
              " * Generator function which is called between each async step of the upload\n",
              " * process.\n",
              " * @param {string} inputId Element ID of the input file picker element.\n",
              " * @param {string} outputId Element ID of the output display.\n",
              " * @return {!Iterable<!Object>} Iterable of next steps.\n",
              " */\n",
              "function* uploadFilesStep(inputId, outputId) {\n",
              "  const inputElement = document.getElementById(inputId);\n",
              "  inputElement.disabled = false;\n",
              "\n",
              "  const outputElement = document.getElementById(outputId);\n",
              "  outputElement.innerHTML = '';\n",
              "\n",
              "  const pickedPromise = new Promise((resolve) => {\n",
              "    inputElement.addEventListener('change', (e) => {\n",
              "      resolve(e.target.files);\n",
              "    });\n",
              "  });\n",
              "\n",
              "  const cancel = document.createElement('button');\n",
              "  inputElement.parentElement.appendChild(cancel);\n",
              "  cancel.textContent = 'Cancel upload';\n",
              "  const cancelPromise = new Promise((resolve) => {\n",
              "    cancel.onclick = () => {\n",
              "      resolve(null);\n",
              "    };\n",
              "  });\n",
              "\n",
              "  // Wait for the user to pick the files.\n",
              "  const files = yield {\n",
              "    promise: Promise.race([pickedPromise, cancelPromise]),\n",
              "    response: {\n",
              "      action: 'starting',\n",
              "    }\n",
              "  };\n",
              "\n",
              "  cancel.remove();\n",
              "\n",
              "  // Disable the input element since further picks are not allowed.\n",
              "  inputElement.disabled = true;\n",
              "\n",
              "  if (!files) {\n",
              "    return {\n",
              "      response: {\n",
              "        action: 'complete',\n",
              "      }\n",
              "    };\n",
              "  }\n",
              "\n",
              "  for (const file of files) {\n",
              "    const li = document.createElement('li');\n",
              "    li.append(span(file.name, {fontWeight: 'bold'}));\n",
              "    li.append(span(\n",
              "        `(${file.type || 'n/a'}) - ${file.size} bytes, ` +\n",
              "        `last modified: ${\n",
              "            file.lastModifiedDate ? file.lastModifiedDate.toLocaleDateString() :\n",
              "                                    'n/a'} - `));\n",
              "    const percent = span('0% done');\n",
              "    li.appendChild(percent);\n",
              "\n",
              "    outputElement.appendChild(li);\n",
              "\n",
              "    const fileDataPromise = new Promise((resolve) => {\n",
              "      const reader = new FileReader();\n",
              "      reader.onload = (e) => {\n",
              "        resolve(e.target.result);\n",
              "      };\n",
              "      reader.readAsArrayBuffer(file);\n",
              "    });\n",
              "    // Wait for the data to be ready.\n",
              "    let fileData = yield {\n",
              "      promise: fileDataPromise,\n",
              "      response: {\n",
              "        action: 'continue',\n",
              "      }\n",
              "    };\n",
              "\n",
              "    // Use a chunked sending to avoid message size limits. See b/62115660.\n",
              "    let position = 0;\n",
              "    do {\n",
              "      const length = Math.min(fileData.byteLength - position, MAX_PAYLOAD_SIZE);\n",
              "      const chunk = new Uint8Array(fileData, position, length);\n",
              "      position += length;\n",
              "\n",
              "      const base64 = btoa(String.fromCharCode.apply(null, chunk));\n",
              "      yield {\n",
              "        response: {\n",
              "          action: 'append',\n",
              "          file: file.name,\n",
              "          data: base64,\n",
              "        },\n",
              "      };\n",
              "\n",
              "      let percentDone = fileData.byteLength === 0 ?\n",
              "          100 :\n",
              "          Math.round((position / fileData.byteLength) * 100);\n",
              "      percent.textContent = `${percentDone}% done`;\n",
              "\n",
              "    } while (position < fileData.byteLength);\n",
              "  }\n",
              "\n",
              "  // All done.\n",
              "  yield {\n",
              "    response: {\n",
              "      action: 'complete',\n",
              "    }\n",
              "  };\n",
              "}\n",
              "\n",
              "scope.google = scope.google || {};\n",
              "scope.google.colab = scope.google.colab || {};\n",
              "scope.google.colab._files = {\n",
              "  _uploadFiles,\n",
              "  _uploadFilesContinue,\n",
              "};\n",
              "})(self);\n",
              "</script> "
            ]
          },
          "metadata": {}
        },
        {
          "output_type": "stream",
          "name": "stdout",
          "text": [
            "Saving XYZ.jpg to XYZ.jpg\n"
          ]
        }
      ]
    },
    {
      "cell_type": "code",
      "source": [
        "from google.colab import drive\n",
        "drive.mount('/content/drive')"
      ],
      "metadata": {
        "id": "2pzwPYLDtsug"
      },
      "execution_count": null,
      "outputs": []
    },
    {
      "cell_type": "markdown",
      "source": [
        "# PRACTICAL QUESTIONS ANSWERS"
      ],
      "metadata": {
        "id": "ISDgUkYELjek"
      }
    },
    {
      "cell_type": "markdown",
      "source": [
        "Q 1. Write a Python function that takes a list of numbers as input and returns the sum of all even numbers in the list.\n"
      ],
      "metadata": {
        "id": "v1SVuDFLLu4K"
      }
    },
    {
      "cell_type": "code",
      "source": [
        "def sum_of_even_numbers(numbers):\n",
        "    sum_even = 0\n",
        "    for number in numbers:\n",
        "        if number % 2 == 0:\n",
        "            sum_even += number\n",
        "    return sum_even"
      ],
      "metadata": {
        "id": "gHVUhGmmMmE5"
      },
      "execution_count": null,
      "outputs": []
    },
    {
      "cell_type": "code",
      "source": [
        "sum_of_even_numbers([1, 2, 3, 4, 5, 6, 7, 8, 9, 10])"
      ],
      "metadata": {
        "colab": {
          "base_uri": "https://localhost:8080/"
        },
        "id": "OuYfKuQsMmCL",
        "outputId": "7f4cebd5-6ee2-45c4-eea2-dc7d3725dbcd"
      },
      "execution_count": null,
      "outputs": [
        {
          "output_type": "execute_result",
          "data": {
            "text/plain": [
              "30"
            ]
          },
          "metadata": {},
          "execution_count": 8
        }
      ]
    },
    {
      "cell_type": "markdown",
      "source": [
        "Q2. Create a Python function that accepts a string and returns the reverse of that string.\n"
      ],
      "metadata": {
        "id": "uvKEK0FaOEuz"
      }
    },
    {
      "cell_type": "code",
      "source": [
        "def reverse_string(input_string):\n",
        "    return input_string[::-1]"
      ],
      "metadata": {
        "id": "0rrkFwn0Ml_O"
      },
      "execution_count": null,
      "outputs": []
    },
    {
      "cell_type": "code",
      "source": [
        "reverse_string(\"Hello, World!\")"
      ],
      "metadata": {
        "colab": {
          "base_uri": "https://localhost:8080/",
          "height": 35
        },
        "id": "TVGBiWAEMl8h",
        "outputId": "0cd7c77d-0039-44f7-a020-ecb86a8fbf30"
      },
      "execution_count": null,
      "outputs": [
        {
          "output_type": "execute_result",
          "data": {
            "text/plain": [
              "'!dlroW ,olleH'"
            ],
            "application/vnd.google.colaboratory.intrinsic+json": {
              "type": "string"
            }
          },
          "metadata": {},
          "execution_count": 10
        }
      ]
    },
    {
      "cell_type": "markdown",
      "source": [
        "Q 3. Implement a Python function that takes a list of integers and returns a new list containing the squares of each number."
      ],
      "metadata": {
        "id": "hTZ7LlCIOsQm"
      }
    },
    {
      "cell_type": "code",
      "source": [
        "def squares_of_numbers(numbers):\n",
        "    return [number ** 2 for number in numbers]"
      ],
      "metadata": {
        "id": "v4jAJL75Ml6I"
      },
      "execution_count": null,
      "outputs": []
    },
    {
      "cell_type": "code",
      "source": [
        "squares_of_numbers([1, 2, 3, 4, 5])"
      ],
      "metadata": {
        "colab": {
          "base_uri": "https://localhost:8080/"
        },
        "id": "OX6TQdtLMl22",
        "outputId": "183501a3-f493-4d53-b59b-8b18a4cacc4c"
      },
      "execution_count": null,
      "outputs": [
        {
          "output_type": "execute_result",
          "data": {
            "text/plain": [
              "[1, 4, 9, 16, 25]"
            ]
          },
          "metadata": {},
          "execution_count": 12
        }
      ]
    },
    {
      "cell_type": "markdown",
      "source": [
        "Q4. Write a Python function that checks if a given number is prime or not from 1 to 200.\n"
      ],
      "metadata": {
        "id": "7HbhqI6wO-oq"
      }
    },
    {
      "cell_type": "code",
      "source": [
        "def is_prime(n):\n",
        "    if n <= 2:\n",
        "        return False\n",
        "    for i in range(2, int(n**0.5) + 1):\n",
        "        if n % i == 0:\n",
        "            return False\n",
        "    return True"
      ],
      "metadata": {
        "id": "2iMwK-Q0O99y"
      },
      "execution_count": null,
      "outputs": []
    },
    {
      "cell_type": "code",
      "source": [
        "n=int(input(\"Enter a number : \"))\n",
        "is_prime(n)"
      ],
      "metadata": {
        "colab": {
          "base_uri": "https://localhost:8080/"
        },
        "id": "-gV5SNjIO92c",
        "outputId": "0a229116-7d12-4937-8892-e093eb1784c0"
      },
      "execution_count": null,
      "outputs": [
        {
          "name": "stdout",
          "output_type": "stream",
          "text": [
            "Enter a number : 10\n"
          ]
        },
        {
          "output_type": "execute_result",
          "data": {
            "text/plain": [
              "False"
            ]
          },
          "metadata": {},
          "execution_count": 18
        }
      ]
    },
    {
      "cell_type": "markdown",
      "source": [
        "Q5. Create an iterator class in Python that generates the Fibonacci sequence up to a specified number of terms.\n"
      ],
      "metadata": {
        "id": "1ff10t51QMPc"
      }
    },
    {
      "cell_type": "code",
      "source": [
        "class Fibonacci:\n",
        "    def __init__(self, max_terms):\n",
        "        self.max = max_terms\n",
        "        self.n1, self.n2 = 0, 1\n",
        "        self.count = 0\n",
        "\n",
        "    def __iter__(self):\n",
        "        return self\n",
        "\n",
        "    def __next__(self):\n",
        "        if self.count < self.max:\n",
        "            result = self.n1\n",
        "            self.n1, self.n2 = self.n2, self.n1 + self.n2\n",
        "            self.count += 1\n",
        "            return result\n",
        "        else:\n",
        "            raise StopIteration"
      ],
      "metadata": {
        "id": "DGpNieeiO9ma"
      },
      "execution_count": null,
      "outputs": []
    },
    {
      "cell_type": "code",
      "source": [
        "fib = Fibonacci(10)\n",
        "\n",
        "for num in fib:\n",
        "    print(num)"
      ],
      "metadata": {
        "colab": {
          "base_uri": "https://localhost:8080/"
        },
        "id": "zIY5js3MO9gd",
        "outputId": "c50db3d0-96a6-4d20-87da-31af2dd34418"
      },
      "execution_count": null,
      "outputs": [
        {
          "output_type": "stream",
          "name": "stdout",
          "text": [
            "0\n",
            "1\n",
            "1\n",
            "2\n",
            "3\n",
            "5\n",
            "8\n",
            "13\n",
            "21\n",
            "34\n"
          ]
        }
      ]
    },
    {
      "cell_type": "markdown",
      "source": [
        "Q6. Write a generator function in Python that yields the powers of 2 up to a given exponent"
      ],
      "metadata": {
        "id": "HC8L-QoMWIMw"
      }
    },
    {
      "cell_type": "code",
      "source": [
        "def power_of_two(exponent):\n",
        "    for i in range(exponent + 1):\n",
        "        yield 2 ** i"
      ],
      "metadata": {
        "id": "_zCVRrrcV_2Q"
      },
      "execution_count": null,
      "outputs": []
    },
    {
      "cell_type": "code",
      "source": [
        "power = power_of_two(5)\n",
        "\n",
        "for num in power:\n",
        "    print(num)"
      ],
      "metadata": {
        "colab": {
          "base_uri": "https://localhost:8080/"
        },
        "id": "0iOjvIwGWHtZ",
        "outputId": "b67f703f-99a7-4e23-cd39-d890dc205275"
      },
      "execution_count": null,
      "outputs": [
        {
          "output_type": "stream",
          "name": "stdout",
          "text": [
            "1\n",
            "2\n",
            "4\n",
            "8\n",
            "16\n",
            "32\n"
          ]
        }
      ]
    },
    {
      "cell_type": "markdown",
      "source": [
        "Q7. Implement a generator function that reads a file line by line and yields each line as a string.\n"
      ],
      "metadata": {
        "id": "ZEkEX9DgWyLG"
      }
    },
    {
      "cell_type": "code",
      "source": [
        "def read_file_line_by_line(file_path):\n",
        "    with open(file_path, 'r') as file:\n",
        "        for line in file:\n",
        "            yield line.strip()"
      ],
      "metadata": {
        "id": "eZcGDEyVWHqd"
      },
      "execution_count": null,
      "outputs": []
    },
    {
      "cell_type": "code",
      "source": [
        "read_file_line_by_line(\"example.txt\")"
      ],
      "metadata": {
        "colab": {
          "base_uri": "https://localhost:8080/"
        },
        "id": "Wbqt7ONAWHmo",
        "outputId": "c1ca73c7-f2ee-4eba-a816-ae82d5478092"
      },
      "execution_count": null,
      "outputs": [
        {
          "output_type": "execute_result",
          "data": {
            "text/plain": [
              "<generator object read_file_line_by_line at 0x7abe52da9d50>"
            ]
          },
          "metadata": {},
          "execution_count": 51
        }
      ]
    },
    {
      "cell_type": "markdown",
      "source": [
        "Q8. Use a lambda function in Python to sort a list of tuples based on the second element of each tuple.\n"
      ],
      "metadata": {
        "id": "ChNtYeXRXbI5"
      }
    },
    {
      "cell_type": "code",
      "source": [
        "data = [(1, 5), (3, 2), (2, 8), (4, 1)]\n",
        "sorted_data = sorted(data, key=lambda x: x[1])\n",
        "print(sorted_data)"
      ],
      "metadata": {
        "colab": {
          "base_uri": "https://localhost:8080/"
        },
        "id": "ZUCna4jPWHgH",
        "outputId": "b0b38631-b01b-455b-f9f3-9e74b5bcf159"
      },
      "execution_count": null,
      "outputs": [
        {
          "output_type": "stream",
          "name": "stdout",
          "text": [
            "[(4, 1), (3, 2), (1, 5), (2, 8)]\n"
          ]
        }
      ]
    },
    {
      "cell_type": "markdown",
      "source": [
        "Q9.Write a Python program that uses map() to convert a list of temperatures from Celsius to Fahrenheit.\n"
      ],
      "metadata": {
        "id": "WXsA1z_UXqVh"
      }
    },
    {
      "cell_type": "code",
      "source": [
        "celsius_temperatures = [0, 10, 20, 30, 40]\n",
        "fahrenheit_temperatures = list(map(lambda x: (x * 9/5) + 32, celsius_temperatures))"
      ],
      "metadata": {
        "id": "vIYcOqfoWHdC"
      },
      "execution_count": null,
      "outputs": []
    },
    {
      "cell_type": "code",
      "source": [
        "list(fahrenheit_temperatures)"
      ],
      "metadata": {
        "colab": {
          "base_uri": "https://localhost:8080/"
        },
        "id": "3zT6KQT9WHQw",
        "outputId": "4dd21600-4a1f-4e53-db12-dc3a7eeb4bb8"
      },
      "execution_count": null,
      "outputs": [
        {
          "output_type": "execute_result",
          "data": {
            "text/plain": [
              "[32.0, 50.0, 68.0, 86.0, 104.0]"
            ]
          },
          "metadata": {},
          "execution_count": 54
        }
      ]
    },
    {
      "cell_type": "markdown",
      "source": [
        "Q10. Create a Python program that uses 'filter() to remove all the vowels from a given string.\n",
        "\n"
      ],
      "metadata": {
        "id": "oCLP48uTYJx7"
      }
    },
    {
      "cell_type": "code",
      "source": [
        "def remove_vowels(input_string):\n",
        "    vowels = 'aeiouAEIOU'\n",
        "    return ''.join(filter(lambda x: x not in vowels, input_string))"
      ],
      "metadata": {
        "id": "oqBVV0DFO9ck"
      },
      "execution_count": null,
      "outputs": []
    },
    {
      "cell_type": "code",
      "source": [
        "remove_vowels(\"happy, universe!\")"
      ],
      "metadata": {
        "colab": {
          "base_uri": "https://localhost:8080/",
          "height": 35
        },
        "id": "D361kTklO9ZK",
        "outputId": "24041fc3-31e7-4c2a-da0d-15ba9edd264f"
      },
      "execution_count": null,
      "outputs": [
        {
          "output_type": "execute_result",
          "data": {
            "text/plain": [
              "'hppy, nvrs!'"
            ],
            "application/vnd.google.colaboratory.intrinsic+json": {
              "type": "string"
            }
          },
          "metadata": {},
          "execution_count": 58
        }
      ]
    },
    {
      "cell_type": "markdown",
      "source": [
        "Q 11. 11) Imagine an accounting routine used in a book shop. It works on a list with sublists, which look like this:\n",
        "\n",
        "\n",
        "Order Number         Book title and Author                  \n",
        "\n",
        "34587                Learning Python,Mark Lutz\n",
        "\n",
        "98762                Programming Python,Mark Lutz\n",
        "\n",
        "77226                Head First Python,Paul Barry\n",
        "\n",
        "88112                Einführung in Python3,Bernd Klein\n",
        "\n",
        "\n",
        "\n",
        "Quantity       Price per Item.\n",
        "\n",
        "4              40.95\n",
        "\n",
        "5              56.80\n",
        "\n",
        "3              32.95\n",
        "\n",
        "3              24.99\n",
        "\n",
        "\n",
        "Write a Python program, which returns a list with 2-tuples. Each tuple consists of the order number and the product of the price per item and the quantity. The product should be increased by 10,- € if the value of the order is smaller than 100,00 €.\n",
        "\n",
        "Write a Python program using lambda and map."
      ],
      "metadata": {
        "id": "HvOuSJmhaCW9"
      }
    },
    {
      "cell_type": "code",
      "source": [
        "orders = [\n",
        "    [34587, \"Learning Python, Mark Lutz\", 4, 40.95],\n",
        "    [98762, \"Programming Python, Mark Lutz\", 5, 56.80],\n",
        "    [77226, \"Head First Python, Paul Barry\", 3, 32.95],\n",
        "    [88112, \"Einführung in Python3, Bernd Klein\", 3, 24.99]\n",
        "]\n",
        "\n",
        "result = list(map(lambda x: (x[0], x[2] * x[3] if x[2] * x[3] >= 100 else x[2] * x[3] + 10), orders))"
      ],
      "metadata": {
        "id": "L5BpB07LrH7M"
      },
      "execution_count": null,
      "outputs": []
    },
    {
      "cell_type": "code",
      "source": [
        "print(result)"
      ],
      "metadata": {
        "id": "z5V1dZ7dO9Oz",
        "colab": {
          "base_uri": "https://localhost:8080/"
        },
        "outputId": "e1cf032e-de63-4c92-cb92-438c0a4f66c7"
      },
      "execution_count": null,
      "outputs": [
        {
          "output_type": "stream",
          "name": "stdout",
          "text": [
            "[(34587, 163.8), (98762, 284.0), (77226, 108.85000000000001), (88112, 84.97)]\n"
          ]
        }
      ]
    }
  ]
}